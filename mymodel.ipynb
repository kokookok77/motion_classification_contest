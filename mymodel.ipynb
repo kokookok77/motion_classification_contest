{
 "metadata": {
  "language_info": {
   "codemirror_mode": {
    "name": "ipython",
    "version": 3
   },
   "file_extension": ".py",
   "mimetype": "text/x-python",
   "name": "python",
   "nbconvert_exporter": "python",
   "pygments_lexer": "ipython3",
   "version": "3.8.5-final"
  },
  "orig_nbformat": 2,
  "kernelspec": {
   "name": "python3",
   "display_name": "Python 3",
   "language": "python"
  }
 },
 "nbformat": 4,
 "nbformat_minor": 2,
 "cells": [
  {
   "cell_type": "code",
   "execution_count": 1,
   "metadata": {},
   "outputs": [],
   "source": [
    "import pandas as pd\n",
    "import numpy as np\n",
    "\n",
    "train=pd.read_csv('train_features.csv')\n",
    "train_labels=pd.read_csv('train_labels.csv')\n",
    "test=pd.read_csv('test_features.csv')\n",
    "submission=pd.read_csv('sample_submission.csv')"
   ]
  },
  {
   "cell_type": "code",
   "execution_count": 7,
   "metadata": {},
   "outputs": [],
   "source": [
    "train_total = pd.merge(train, train_labels, on='id')"
   ]
  },
  {
   "cell_type": "code",
   "execution_count": 16,
   "metadata": {},
   "outputs": [],
   "source": [
    "labels = train_labels['label'].drop_duplicates()"
   ]
  },
  {
   "cell_type": "code",
   "execution_count": 23,
   "metadata": {},
   "outputs": [
    {
     "output_type": "execute_result",
     "data": {
      "text/plain": [
       "Index(['id', 'time', 'acc_x', 'acc_y', 'acc_z', 'gy_x', 'gy_y', 'gy_z'], dtype='object')"
      ]
     },
     "metadata": {},
     "execution_count": 23
    }
   ],
   "source": [
    "train.columns"
   ]
  },
  {
   "cell_type": "code",
   "execution_count": 26,
   "metadata": {},
   "outputs": [
    {
     "output_type": "execute_result",
     "data": {
      "text/plain": [
       "        id  label                          label_desc\n",
       "0        0     37           Shoulder Press (dumbbell)\n",
       "1        1     26                        Non-Exercise\n",
       "2        2      3                  Biceps Curl (band)\n",
       "3        3     26                        Non-Exercise\n",
       "4        4     26                        Non-Exercise\n",
       "...    ...    ...                                 ...\n",
       "3120  3120     26                        Non-Exercise\n",
       "3121  3121     26                        Non-Exercise\n",
       "3122  3122     15  Dynamic Stretch (at your own pace)\n",
       "3123  3123     26                        Non-Exercise\n",
       "3124  3124      2                          Bicep Curl\n",
       "\n",
       "[3125 rows x 3 columns]"
      ],
      "text/html": "<div>\n<style scoped>\n    .dataframe tbody tr th:only-of-type {\n        vertical-align: middle;\n    }\n\n    .dataframe tbody tr th {\n        vertical-align: top;\n    }\n\n    .dataframe thead th {\n        text-align: right;\n    }\n</style>\n<table border=\"1\" class=\"dataframe\">\n  <thead>\n    <tr style=\"text-align: right;\">\n      <th></th>\n      <th>id</th>\n      <th>label</th>\n      <th>label_desc</th>\n    </tr>\n  </thead>\n  <tbody>\n    <tr>\n      <th>0</th>\n      <td>0</td>\n      <td>37</td>\n      <td>Shoulder Press (dumbbell)</td>\n    </tr>\n    <tr>\n      <th>1</th>\n      <td>1</td>\n      <td>26</td>\n      <td>Non-Exercise</td>\n    </tr>\n    <tr>\n      <th>2</th>\n      <td>2</td>\n      <td>3</td>\n      <td>Biceps Curl (band)</td>\n    </tr>\n    <tr>\n      <th>3</th>\n      <td>3</td>\n      <td>26</td>\n      <td>Non-Exercise</td>\n    </tr>\n    <tr>\n      <th>4</th>\n      <td>4</td>\n      <td>26</td>\n      <td>Non-Exercise</td>\n    </tr>\n    <tr>\n      <th>...</th>\n      <td>...</td>\n      <td>...</td>\n      <td>...</td>\n    </tr>\n    <tr>\n      <th>3120</th>\n      <td>3120</td>\n      <td>26</td>\n      <td>Non-Exercise</td>\n    </tr>\n    <tr>\n      <th>3121</th>\n      <td>3121</td>\n      <td>26</td>\n      <td>Non-Exercise</td>\n    </tr>\n    <tr>\n      <th>3122</th>\n      <td>3122</td>\n      <td>15</td>\n      <td>Dynamic Stretch (at your own pace)</td>\n    </tr>\n    <tr>\n      <th>3123</th>\n      <td>3123</td>\n      <td>26</td>\n      <td>Non-Exercise</td>\n    </tr>\n    <tr>\n      <th>3124</th>\n      <td>3124</td>\n      <td>2</td>\n      <td>Bicep Curl</td>\n    </tr>\n  </tbody>\n</table>\n<p>3125 rows × 3 columns</p>\n</div>"
     },
     "metadata": {},
     "execution_count": 26
    }
   ],
   "source": [
    "train_labels"
   ]
  },
  {
   "cell_type": "code",
   "execution_count": 15,
   "metadata": {},
   "outputs": [
    {
     "output_type": "stream",
     "name": "stdout",
     "text": [
      "0             0\n1             0\n2             0\n3             0\n4             0\n           ... \n1874995    3124\n1874996    3124\n1874997    3124\n1874998    3124\n1874999    3124\nName: id, Length: 1875000, dtype: int64\n0            0\n1            1\n2            2\n3            3\n4            4\n          ... \n1874995    595\n1874996    596\n1874997    597\n1874998    598\n1874999    599\nName: time, Length: 1875000, dtype: int64\n0          1.206087\n1          1.287696\n2          1.304609\n3          1.293095\n4          1.300887\n             ...   \n1874995   -0.712530\n1874996   -0.683037\n1874997   -0.664730\n1874998   -0.630534\n1874999   -0.578351\nName: acc_x, Length: 1875000, dtype: float64\n0         -0.179371\n1         -0.198974\n2         -0.195114\n3         -0.230366\n4         -0.187757\n             ...   \n1874995   -0.658357\n1874996   -0.658466\n1874997   -0.666625\n1874998   -0.682565\n1874999   -0.700235\nName: acc_y, Length: 1875000, dtype: float64\n0         -0.148447\n1         -0.182444\n2         -0.253382\n3         -0.215210\n4         -0.222523\n             ...   \n1874995    0.293707\n1874996    0.329223\n1874997    0.364114\n1874998    0.373696\n1874999    0.384390\nName: acc_z, Length: 1875000, dtype: float64\n0          -0.591608\n1           0.303100\n2          -3.617278\n3           2.712986\n4           4.286707\n             ...    \n1874995   -29.367857\n1874996   -30.149089\n1874997   -27.873095\n1874998   -23.636550\n1874999   -17.917626\nName: gy_x, Length: 1875000, dtype: float64\n0          -30.549010\n1          -39.139103\n2          -44.122565\n3          -53.597843\n4          -57.906561\n              ...    \n1874995   -104.013664\n1874996   -101.796809\n1874997    -98.776072\n1874998    -99.139495\n1874999   -100.181873\nName: gy_y, Length: 1875000, dtype: float64\n0         -31.676112\n1         -24.927216\n2         -25.019629\n3         -27.454013\n4         -27.961234\n             ...    \n1874995   -76.290437\n1874996   -76.625087\n1874997   -79.365125\n1874998   -80.259478\n1874999   -80.676229\nName: gy_z, Length: 1875000, dtype: float64\n0          37\n1          37\n2          37\n3          37\n4          37\n           ..\n1874995     2\n1874996     2\n1874997     2\n1874998     2\n1874999     2\nName: label, Length: 1875000, dtype: int64\n0          Shoulder Press (dumbbell)\n1          Shoulder Press (dumbbell)\n2          Shoulder Press (dumbbell)\n3          Shoulder Press (dumbbell)\n4          Shoulder Press (dumbbell)\n                     ...            \n1874995                   Bicep Curl\n1874996                   Bicep Curl\n1874997                   Bicep Curl\n1874998                   Bicep Curl\n1874999                   Bicep Curl\nName: label_desc, Length: 1875000, dtype: object\n"
     ]
    }
   ],
   "source": [
    "aug_cnt = 1000\n",
    "\n",
    "for idx, label in labels.iteritems():\n",
    "    tmps = train_total[train_total['label'] == label].copy()\n",
    "    while len(train[train['label'] == label]) <= 600*aug_cnt:\n",
    "        for idx, _id in tmps['id'].drop_duplicates():\n",
    "            if len(train[train['label'] == label]) <= 600*aug_cnt:\n",
    "                tmp = tmps[tmps['id'] == _id]\n",
    "                tmp['acc_x'] = tmp['acc_x'] + tmp['acc_x'].std() * np.random.normal(0.0, 1.0, 600)\n",
    "                tmp['acc_y'] = tmp['acc_y'] + tmp['acc_y'].std() * np.random.normal(0.0, 1.0, 600)\n",
    "                tmp['acc_z'] = tmp['acc_z'] + tmp['acc_z'].std() * np.random.normal(0.0, 1.0, 600)\n",
    "                tmp['gy_x'] = tmp['gy_x'] + tmp['gy_x'].std() * np.random.normal(0.0, 1.0, 600)\n",
    "                tmp['gy_y'] = tmp['gy_y'] + tmp['gy_y'].std() * np.random.normal(0.0, 1.0, 600)\n",
    "                tmp['gy_z'] = tmp['gy_z'] + tmp['gy_z'].std() * np.random.normal(0.0, 1.0, 600)\n",
    "                tmp['id'] = train['id'].max() + 1\n",
    "                train = pd.concat([train, tmp])\n",
    "                train_labels.append({'id': train['id'].max() + 1, 'label': label})\n"
   ]
  },
  {
   "cell_type": "code",
   "execution_count": 25,
   "metadata": {},
   "outputs": [
    {
     "output_type": "execute_result",
     "data": {
      "text/plain": [
       "3124"
      ]
     },
     "metadata": {},
     "execution_count": 25
    }
   ],
   "source": [
    "train['id'].max()"
   ]
  }
 ]
}